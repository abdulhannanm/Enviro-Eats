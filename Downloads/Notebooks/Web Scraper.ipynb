{
 "cells": [
  {
   "cell_type": "code",
   "execution_count": null,
   "id": "344a0819",
   "metadata": {},
   "outputs": [],
   "source": [
    "import requests, lxml, re, json \n",
    "from bs4 import BeautifulSoup"
   ]
  },
  {
   "cell_type": "code",
   "execution_count": null,
   "id": "90eb8f3d",
   "metadata": {},
   "outputs": [],
   "source": [
    "def_healthies = ['broccoli','carrots','bread','beans','berries','nuts and seeds','peppers','quinoa','asparagus','salads','celery','eggplant','peas','bananas','oranges','pears',\n",
    "            'pomegranates','soups','eggs','blueberries','barley','oatmeal','millet','avocadoes','brown rice','sweet potatoes','mangoes','brussels sprouts','chard','cabbage','collard greens']"
   ]
  },
  {
   "cell_type": "code",
   "execution_count": null,
   "id": "9ea5ec62",
   "metadata": {},
   "outputs": [],
   "source": [
    "def_unhealthies = ['candy','potato chips','soda','bacon','cheetos','cool whip','fast foods','sausage']"
   ]
  },
  {
   "cell_type": "code",
   "execution_count": null,
   "id": "2e7cb3fd",
   "metadata": {},
   "outputs": [],
   "source": [
    "len(def_unhealthies)"
   ]
  },
  {
   "cell_type": "code",
   "execution_count": null,
   "id": "c0c2378e",
   "metadata": {},
   "outputs": [],
   "source": [
    "def_healthies = def_healthies[:21]"
   ]
  },
  {
   "cell_type": "code",
   "execution_count": null,
   "id": "198cc035",
   "metadata": {},
   "outputs": [],
   "source": [
    "len(def_healthies)"
   ]
  },
  {
   "cell_type": "code",
   "execution_count": null,
   "id": "eabce620",
   "metadata": {},
   "outputs": [],
   "source": [
    "import os\n"
   ]
  },
  {
   "cell_type": "code",
   "execution_count": null,
   "id": "c13c4f6b",
   "metadata": {},
   "outputs": [],
   "source": [
    "parent_dir = \"Downloads/archive/food41/images/\"\n",
    "\n"
   ]
  },
  {
   "cell_type": "code",
   "execution_count": null,
   "id": "77d297a1",
   "metadata": {},
   "outputs": [],
   "source": [
    "from selenium import webdriver\n",
    "from selenium.webdriver.common.keys import Keys\n",
    "import pandas as pd"
   ]
  },
  {
   "cell_type": "code",
   "execution_count": null,
   "id": "331dfae9",
   "metadata": {},
   "outputs": [],
   "source": [
    "driver = webdriver.Chrome('/Users/aadrijupadya/Downloads/chromedriver')"
   ]
  },
  {
   "cell_type": "code",
   "execution_count": null,
   "id": "7307b376",
   "metadata": {},
   "outputs": [],
   "source": [
    "import io\n",
    "from PIL import Image\n",
    "import requests"
   ]
  },
  {
   "cell_type": "code",
   "execution_count": null,
   "id": "c73eea18",
   "metadata": {},
   "outputs": [],
   "source": [
    "def download_image(download_path,url,file_name):\n",
    "    try:\n",
    "        image_content = requests.get(url).content\n",
    "        image_file = io.BytesIO(image_content)\n",
    "        image = Image.open(image_file)\n",
    "        file_path = download_path + file_name\n",
    "\n",
    "        with open(file_path,\"wb\") as f:\n",
    "            image.save(f,\"JPEG\")\n",
    "        print(\"Success\")\n",
    "    except Exception as e:\n",
    "        print(\"Failed - \", e)"
   ]
  },
  {
   "cell_type": "code",
   "execution_count": null,
   "id": "cc8771a0",
   "metadata": {
    "scrolled": true
   },
   "outputs": [],
   "source": [
    "image_url = \"https://media.self.com/photos/5b6b0b0cbb7f036f7f5cbcfa/master/pass/apples.jpg\"\n",
    "download_image(\"Downloads/archive/food41/images/apples/\",image_url,\"apple.jpg\")"
   ]
  },
  {
   "cell_type": "code",
   "execution_count": null,
   "id": "67de0f39",
   "metadata": {},
   "outputs": [],
   "source": [
    "def get_images_from_google(wd, delay, max_images,arg):\n",
    "    \n",
    "\tdef scroll_up(wd):\n",
    "\t\twd.execute_script(\"window.scrollTo(0,0);\")\n",
    "        \n",
    "\tdef scroll_down(wd):\n",
    "\t\twd.execute_script(\"window.scrollTo(0, document.body.scrollHeight);\")\n",
    "\t\ttime.sleep(delay)\n",
    "    \n",
    "\turl = f\"https://www.google.com/search?q={arg}&rlz=1C5CHFA_enUS959US959&source=lnms&tbm=isch&sa=X&ved=2ahUKEwi5wJeKtv_4AhWjlWoFHYDbDo4Q_AUoAXoECAMQAw#imgrc=rZgjtV7Aon5zkM\"\n",
    "\twd.get(url)\n",
    "\n",
    "\timage_urls = set()\n",
    "\tskips = 0\n",
    "\tscroll_up(wd)\n",
    "\twhile len(image_urls) + skips < max_images:\n",
    "\t\tscroll_down(wd)\n",
    "\n",
    "\t\tthumbnails = wd.find_elements(By.CLASS_NAME, \"Q4LuWd\")\n",
    "\n",
    "\t\tfor img in thumbnails[len(image_urls) + skips:max_images]:\n",
    "\t\t\ttry:\n",
    "\t\t\t\timg.click()\n",
    "\t\t\t\ttime.sleep(delay)\n",
    "\t\t\texcept:\n",
    "\t\t\t\tcontinue\n",
    "\n",
    "\t\t\timages = wd.find_elements(By.CLASS_NAME, \"n3VNCb\")\n",
    "\t\t\tfor image in images:\n",
    "\t\t\t\tif image.get_attribute('src') in image_urls:\n",
    "\t\t\t\t\tmax_images += 1\n",
    "\t\t\t\t\tskips += 1\n",
    "\t\t\t\t\tbreak\n",
    "\n",
    "\t\t\t\tif image.get_attribute('src') and 'http' in image.get_attribute('src'):\n",
    "\t\t\t\t\timage_urls.add(image.get_attribute('src'))\n",
    "\t\t\t\t\tprint(f\"Found {len(image_urls)}\")\n",
    "\n",
    "\treturn image_urls"
   ]
  },
  {
   "cell_type": "code",
   "execution_count": null,
   "id": "0dbe53f4",
   "metadata": {},
   "outputs": [],
   "source": [
    "import time\n",
    "from selenium.webdriver.common.by import By\n"
   ]
  },
  {
   "cell_type": "code",
   "execution_count": null,
   "id": "acb163ea",
   "metadata": {},
   "outputs": [],
   "source": [
    "smalls = ['fast foods']"
   ]
  },
  {
   "cell_type": "code",
   "execution_count": null,
   "id": "5004dd33",
   "metadata": {},
   "outputs": [],
   "source": [
    "%%time\n",
    "for food in smalls:\n",
    "    urls = get_images_from_google(driver,1,50,food)\n",
    "    for i,url in enumerate(urls):\n",
    "        download_image(f\"Downloads/archive/food41/images/{food}/\",url,f\"{food}{i}.jpg\")\n",
    "    time.sleep(10)\n",
    "        "
   ]
  },
  {
   "cell_type": "code",
   "execution_count": null,
   "id": "2f762deb",
   "metadata": {},
   "outputs": [],
   "source": [
    "import os"
   ]
  },
  {
   "cell_type": "code",
   "execution_count": null,
   "id": "dcf0d32d",
   "metadata": {},
   "outputs": [],
   "source": [
    "parent_dir = \"Downloads/archive/food41/images/\""
   ]
  },
  {
   "cell_type": "code",
   "execution_count": null,
   "id": "da02054b",
   "metadata": {},
   "outputs": [],
   "source": []
  }
 ],
 "metadata": {
  "kernelspec": {
   "display_name": "Python 3 (ipykernel)",
   "language": "python",
   "name": "python3"
  },
  "language_info": {
   "codemirror_mode": {
    "name": "ipython",
    "version": 3
   },
   "file_extension": ".py",
   "mimetype": "text/x-python",
   "name": "python",
   "nbconvert_exporter": "python",
   "pygments_lexer": "ipython3",
   "version": "3.8.8"
  }
 },
 "nbformat": 4,
 "nbformat_minor": 5
}
