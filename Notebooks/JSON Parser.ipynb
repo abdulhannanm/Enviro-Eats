{
 "cells": [
  {
   "cell_type": "code",
   "execution_count": null,
   "id": "09ad6095",
   "metadata": {},
   "outputs": [],
   "source": [
    "import os\n",
    "import random\n",
    "import time"
   ]
  },
  {
   "cell_type": "code",
   "execution_count": null,
   "id": "9a9424fd",
   "metadata": {},
   "outputs": [],
   "source": [
    "def_healthy_foods = [\"apple fruit\",\"asparagus\",\"bananas\",\"barley grain\",\"beans\",\"beet_salad\",\"berries\",\"bread\",\"broccoli\",\"brown rice\",\"caesar_salad\",\"caprese_salad\",\"carrots\",\"celery\",\"edamame\",\"eggplant\",\"guacamole\",\"hummus\",\"millet grain\",\"mussels\",\"nuts and seeds\",\"oatmeal\",\"oranges\",\"pears\",\"peas\",\"peppers\",\"pomegranates\",\"quinoa\",\"salads\",\"seaweed_salad\"]\n",
    "def_healthy_dir = \"Downloads/archive/food41/images/Definitely Healthy/\"\n",
    "\n",
    "\n"
   ]
  },
  {
   "cell_type": "code",
   "execution_count": null,
   "id": "b75b142d",
   "metadata": {},
   "outputs": [],
   "source": [
    "train_json = []\n",
    "for i in def_healthy_foods:\n",
    "    image_path = def_healthy_dir + i\n",
    "    for (dir_path, dir_names, file_names) in os.walk(image_path):\n",
    "        files = [f\"{i}/{file}\" for file in file_names]\n",
    "        if len(file_names) == 1000:\n",
    "            train_json.extend(files[-57:])\n",
    "        else:\n",
    "            train_num = round(len(file_names) * 0.25)\n",
    "            train_json.extend(files[-(train_num):])"
   ]
  },
  {
   "cell_type": "code",
   "execution_count": null,
   "id": "f0d23071",
   "metadata": {},
   "outputs": [],
   "source": [
    "print(train_json)\n",
    "import json\n",
    "\n",
    "with open('data.json', 'w') as f:\n",
    "    f.write(json.dumps(train_json))\n"
   ]
  },
  {
   "cell_type": "code",
   "execution_count": null,
   "id": "45ec07f8",
   "metadata": {},
   "outputs": [],
   "source": [
    "len(train_json)\n"
   ]
  },
  {
   "cell_type": "code",
   "execution_count": null,
   "id": "bd31ce8c",
   "metadata": {},
   "outputs": [],
   "source": [
    "def_unhealthy_foods = []\n",
    "def_unhealthy_dir = \"Downloads/archive/food41/images/Definitely Unhealthy/\"\n",
    "for (dir_path, dir_names, file_names) in os.walk(def_unhealthy_dir):\n",
    "    for i in dir_names:\n",
    "        def_unhealthy_foods.append(i)\n",
    "        \n"
   ]
  },
  {
   "cell_type": "code",
   "execution_count": null,
   "id": "25f84190",
   "metadata": {},
   "outputs": [],
   "source": [
    "def_unhealthy_foods"
   ]
  },
  {
   "cell_type": "code",
   "execution_count": null,
   "id": "181c39a2",
   "metadata": {},
   "outputs": [],
   "source": [
    "def extract_json(food_list, directory):\n",
    "    train_json = []\n",
    "    for i in food_list:\n",
    "        image_path = directory + i\n",
    "        for (dir_path, dir_names, file_names) in os.walk(image_path):\n",
    "            files = [f\"{i}/{file}\" for file in file_names]\n",
    "            if len(file_names) == 1000:\n",
    "                train_json.extend(files[-23:])\n",
    "            else:\n",
    "                train_num = round(len(file_names) * 0.75)\n",
    "                train_json.extend(files[-(train_num):])\n",
    "    return train_json"
   ]
  },
  {
   "cell_type": "code",
   "execution_count": null,
   "id": "907f7476",
   "metadata": {},
   "outputs": [],
   "source": [
    "def_unhealthy_json = extract_json(def_unhealthy_foods,\"Downloads/archive/food41/images/Definitely Unhealthy/\")"
   ]
  },
  {
   "cell_type": "code",
   "execution_count": null,
   "id": "ca403c72",
   "metadata": {},
   "outputs": [],
   "source": [
    "len(def_unhealthy_json)"
   ]
  },
  {
   "cell_type": "code",
   "execution_count": null,
   "id": "e155f824",
   "metadata": {},
   "outputs": [],
   "source": [
    "with open('data.json', 'w') as f:\n",
    "    f.write(json.dumps(def_unhealthy_json))"
   ]
  },
  {
   "cell_type": "code",
   "execution_count": null,
   "id": "057bc07c",
   "metadata": {},
   "outputs": [],
   "source": [
    "def get_food_names(var):\n",
    "    foods = []\n",
    "    dur = f\"Downloads/archive/food41/images/{var}/\"\n",
    "    for (dir_path, dir_names, file_names) in os.walk(dur):\n",
    "        for i in dir_names:\n",
    "            foods.append(i)\n",
    "    print(foods)\n",
    "    return foods\n",
    "    print(dur)\n",
    "    return dur\n"
   ]
  },
  {
   "cell_type": "code",
   "execution_count": null,
   "id": "de91abeb",
   "metadata": {},
   "outputs": [],
   "source": [
    "healthy_foods = get_food_names('Healthy')\n"
   ]
  },
  {
   "cell_type": "code",
   "execution_count": null,
   "id": "34de1725",
   "metadata": {},
   "outputs": [],
   "source": [
    "healthy_json = extract_json(healthy_foods, \"Downloads/archive/food41/images/Healthy/\")"
   ]
  },
  {
   "cell_type": "code",
   "execution_count": null,
   "id": "32b2fc48",
   "metadata": {},
   "outputs": [],
   "source": [
    "len(healthy_json)"
   ]
  },
  {
   "cell_type": "code",
   "execution_count": null,
   "id": "ea033488",
   "metadata": {},
   "outputs": [],
   "source": [
    "with open('data.json', 'w') as f:\n",
    "    f.write(json.dumps(healthy_json))"
   ]
  },
  {
   "cell_type": "code",
   "execution_count": null,
   "id": "12876716",
   "metadata": {},
   "outputs": [],
   "source": [
    "unhealthy_foods = get_food_names('Unhealthy')"
   ]
  },
  {
   "cell_type": "code",
   "execution_count": null,
   "id": "27227384",
   "metadata": {},
   "outputs": [],
   "source": [
    "unhealthy_json = extract_json(unhealthy_foods, \"Downloads/archive/food41/images/Unhealthy/\")"
   ]
  },
  {
   "cell_type": "code",
   "execution_count": null,
   "id": "0b33dda3",
   "metadata": {},
   "outputs": [],
   "source": [
    "print(len(unhealthy_json))"
   ]
  },
  {
   "cell_type": "code",
   "execution_count": null,
   "id": "7fe163c0",
   "metadata": {},
   "outputs": [],
   "source": [
    "with open('data.json', 'w') as f:\n",
    "    f.write(json.dumps(unhealthy_json))"
   ]
  },
  {
   "cell_type": "code",
   "execution_count": null,
   "id": "cfeb7f71",
   "metadata": {},
   "outputs": [],
   "source": []
  }
 ],
 "metadata": {
  "kernelspec": {
   "display_name": "Python 3 (ipykernel)",
   "language": "python",
   "name": "python3"
  },
  "language_info": {
   "codemirror_mode": {
    "name": "ipython",
    "version": 3
   },
   "file_extension": ".py",
   "mimetype": "text/x-python",
   "name": "python",
   "nbconvert_exporter": "python",
   "pygments_lexer": "ipython3",
   "version": "3.8.8"
  }
 },
 "nbformat": 4,
 "nbformat_minor": 5
}
